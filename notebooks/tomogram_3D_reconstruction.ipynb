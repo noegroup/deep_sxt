{
 "cells": [
  {
   "cell_type": "code",
   "execution_count": null,
   "metadata": {},
   "outputs": [],
   "source": [
    "import numpy as np\n",
    "import matplotlib.pyplot as plt\n",
    "from inference.tomogram_reconstruction import z_smooth, surface_reconstruction"
   ]
  },
  {
   "cell_type": "code",
   "execution_count": null,
   "metadata": {},
   "outputs": [],
   "source": [
    "import pyvista as pv"
   ]
  },
  {
   "cell_type": "markdown",
   "metadata": {},
   "source": [
    "## Importing the segmented tomogram\n",
    "\n",
    "First, we import the segmented slices produced by the notebook ```tomogram_2D_segmentation```."
   ]
  },
  {
   "cell_type": "code",
   "execution_count": null,
   "metadata": {},
   "outputs": [],
   "source": [
    "input_file_path = \"../outputs/segmented_tomogram.npy\"\n",
    "\n",
    "seg_slices = np.load (input_file_path)"
   ]
  },
  {
   "cell_type": "markdown",
   "metadata": {},
   "source": [
    "Notice that the order of dimensions in the stack of segmented slices is z, x, y"
   ]
  },
  {
   "cell_type": "code",
   "execution_count": null,
   "metadata": {
    "scrolled": true
   },
   "outputs": [],
   "source": [
    "z_max, x_max, y_max = seg_slices.shape\n",
    "\n",
    "print(f\"Tomogram shape: L_x = {x_max}, L_y = {y_max}, L_z = {z_max}\")"
   ]
  },
  {
   "cell_type": "markdown",
   "metadata": {},
   "source": [
    "### Smoothing\n",
    "\n",
    "We use a Gaussian filter that smoothes the binary segmented tomograms. This filter works by applying this kernel along the z-dimension, which smoothes out each slice by interpolating pixel-information from neighboring slices within the $\\pm$```smoothing_depth``` of it. "
   ]
  },
  {
   "cell_type": "code",
   "execution_count": null,
   "metadata": {},
   "outputs": [],
   "source": [
    "smoothing_depth = 2\n",
    "\n",
    "smoothed_slices = z_smooth(seg_slices, smoothing_depth)"
   ]
  },
  {
   "cell_type": "markdown",
   "metadata": {},
   "source": [
    "## 3D reconstruction\n",
    "\n",
    "The following function uses the Marching Cube algorithm to reconstruct the voxel-based segmented tomogram into tessellated surfaces."
   ]
  },
  {
   "cell_type": "code",
   "execution_count": null,
   "metadata": {},
   "outputs": [],
   "source": [
    "mesh = surface_reconstruction(smoothed_slices)"
   ]
  },
  {
   "cell_type": "markdown",
   "metadata": {},
   "source": [
    "## Visualization\n",
    "\n",
    "Using the **PyVista** package (https://docs.pyvista.org), we can visualize the reconstructed tomogram in 3D. "
   ]
  },
  {
   "cell_type": "code",
   "execution_count": null,
   "metadata": {},
   "outputs": [],
   "source": [
    "def get_cam_position(radius, theta, phi):\n",
    "    \"\"\"Helper function for camera positioning\"\"\"\n",
    "    \n",
    "    cam_pos = (0.5 * y_max + radius * np.sin(theta) * np.cos(phi),\n",
    "               0.5 * z_max + radius * np.sin(theta) * np.sin(phi),\n",
    "               0.5 * x_max + radius * np.cos(theta))\n",
    "\n",
    "    cam_viewup = (-np.cos(theta) * np.cos(phi), -np.cos(theta) * np.sin(phi), np.sin(theta))\n",
    "    \n",
    "    return cam_pos, cam_viewup    "
   ]
  },
  {
   "cell_type": "code",
   "execution_count": null,
   "metadata": {},
   "outputs": [],
   "source": [
    "plotter = pv.Plotter(notebook=True, off_screen=True, multi_samples=2, polygon_smoothing=True)\n",
    "\n",
    "surf = plotter.add_mesh(mesh, smooth_shading=True)\n",
    "\n",
    "plotter.set_background([0.1, 0.1, 0.1])\n",
    "\n",
    "_center = np.array([0.5 * x_max, 0.5 * y_max, 0.5 * z_max])\n",
    "\n",
    "cam_pos, cam_viewup = get_cam_position(2.4 * x_max, 65.0 * np.pi / 180.0, -20.0 * np.pi / 180.0)\n",
    "\n",
    "plotter.set_position(cam_pos)\n",
    "plotter.set_focus(_center)\n",
    "plotter.set_viewup(cam_viewup)\n",
    "\n",
    "plotter.show_grid()\n",
    "plotter.show_axes()\n",
    "\n",
    "plotter.show()"
   ]
  },
  {
   "cell_type": "markdown",
   "metadata": {},
   "source": [
    "## Exporting the reconstructed tomogram\n",
    "\n",
    "Using the following command, you can save the mesh output of the surface reconstruction process into a variety of formats offered by the PyVista package. You can refer to the online PyVista documentation (https://docs.pyvista.org) for further information. "
   ]
  },
  {
   "cell_type": "code",
   "execution_count": null,
   "metadata": {},
   "outputs": [],
   "source": [
    "pv.save_meshio(\"../outputs/reconstructed_tomogram.obj\", mesh)"
   ]
  },
  {
   "cell_type": "code",
   "execution_count": null,
   "metadata": {},
   "outputs": [],
   "source": []
  }
 ],
 "metadata": {
  "kernelspec": {
   "display_name": "Python 3 (ipykernel)",
   "language": "python",
   "name": "python3"
  },
  "language_info": {
   "codemirror_mode": {
    "name": "ipython",
    "version": 3
   },
   "file_extension": ".py",
   "mimetype": "text/x-python",
   "name": "python",
   "nbconvert_exporter": "python",
   "pygments_lexer": "ipython3",
   "version": "3.8.13"
  }
 },
 "nbformat": 4,
 "nbformat_minor": 2
}
