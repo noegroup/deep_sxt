{
 "cells": [
  {
   "cell_type": "code",
   "execution_count": 1,
   "metadata": {},
   "outputs": [],
   "source": [
    "import glob\n",
    "import urllib\n",
    "import numpy as np\n",
    "import matplotlib.pyplot as plt\n",
    "import json\n",
    "from tqdm.notebook import tqdm\n",
    "import tifffile"
   ]
  },
  {
   "cell_type": "code",
   "execution_count": 2,
   "metadata": {},
   "outputs": [
    {
     "name": "stderr",
     "output_type": "stream",
     "text": [
      "2022-11-17 05:34:48.416943: I tensorflow/core/platform/cpu_feature_guard.cc:193] This TensorFlow binary is optimized with oneAPI Deep Neural Network Library (oneDNN) to use the following CPU instructions in performance-critical operations:  AVX2 AVX512F FMA\n",
      "To enable them in other operations, rebuild TensorFlow with the appropriate compiler flags.\n",
      "2022-11-17 05:34:48.562031: E tensorflow/stream_executor/cuda/cuda_blas.cc:2981] Unable to register cuBLAS factory: Attempting to register factory for plugin cuBLAS when one has already been registered\n",
      "2022-11-17 05:34:49.087287: W tensorflow/stream_executor/platform/default/dso_loader.cc:64] Could not load dynamic library 'libnvinfer.so.7'; dlerror: libnvinfer.so.7: cannot open shared object file: No such file or directory; LD_LIBRARY_PATH: /srv/data/Apps/hdf5/lib:/usr/local/cuda-11.2/lib64:/srv/data/gcc-11.2.0/libexec/gcc/x86_64-pc-linux-gnu/11.2.0:/srv/data/gcc-11.2.0/lib:/srv/data/gcc-11.2.0/lib32:/srv/data/gcc-11.2.0/lib64:/srv/data/Apps/local/lib:/srv/data/Apps/hunspell/lib:\n",
      "2022-11-17 05:34:49.087386: W tensorflow/stream_executor/platform/default/dso_loader.cc:64] Could not load dynamic library 'libnvinfer_plugin.so.7'; dlerror: libnvinfer_plugin.so.7: cannot open shared object file: No such file or directory; LD_LIBRARY_PATH: /srv/data/Apps/hdf5/lib:/usr/local/cuda-11.2/lib64:/srv/data/gcc-11.2.0/libexec/gcc/x86_64-pc-linux-gnu/11.2.0:/srv/data/gcc-11.2.0/lib:/srv/data/gcc-11.2.0/lib32:/srv/data/gcc-11.2.0/lib64:/srv/data/Apps/local/lib:/srv/data/Apps/hunspell/lib:\n",
      "2022-11-17 05:34:49.087393: W tensorflow/compiler/tf2tensorrt/utils/py_utils.cc:38] TF-TRT Warning: Cannot dlopen some TensorRT libraries. If you would like to use Nvidia GPU with TensorRT, please make sure the missing libraries mentioned above are installed properly.\n"
     ]
    }
   ],
   "source": [
    "from deep_sxt.models import double_decoder_cnn\n",
    "from deep_sxt.data_loader.image_loader import image_preprocessing_function\n",
    "from deep_sxt.inference.tomogram_segmentation import load_tomogram_from_file, segment_slice"
   ]
  },
  {
   "cell_type": "markdown",
   "metadata": {},
   "source": [
    "## Checking TensorFlow installation and GPU availability"
   ]
  },
  {
   "cell_type": "code",
   "execution_count": 3,
   "metadata": {},
   "outputs": [
    {
     "name": "stdout",
     "output_type": "stream",
     "text": [
      "TensorFlow version: 2.10.1\n",
      "Number of GPUs available: 1\n"
     ]
    }
   ],
   "source": [
    "import tensorflow as tf\n",
    "\n",
    "print(f\"TensorFlow version: {tf.__version__}\")\n",
    "print(f\"Number of GPUs available: {len(tf.config.experimental.list_physical_devices('GPU'))}\")"
   ]
  },
  {
   "cell_type": "markdown",
   "metadata": {},
   "source": [
    "## Building the deep network\n",
    "\n",
    "Network parameters are loaded from the ```json``` file with the given path."
   ]
  },
  {
   "cell_type": "code",
   "execution_count": null,
   "metadata": {},
   "outputs": [],
   "source": [
    "with open('../network_params/model_config_semisupervised_2021_05.json', 'r') as config_file:\n",
    "    model_config = json.load(config_file)"
   ]
  },
  {
   "cell_type": "markdown",
   "metadata": {},
   "source": [
    "The ```model``` object contains the deep network used for image segmentaion. "
   ]
  },
  {
   "cell_type": "code",
   "execution_count": null,
   "metadata": {
    "scrolled": false
   },
   "outputs": [],
   "source": [
    "model = double_decoder_cnn.MyDoubleDecoderNet(config=model_config)\n",
    "\n",
    "model.build(input_shape=(None, 256, 256, 1))\n",
    "\n",
    "model.summary ()"
   ]
  },
  {
   "cell_type": "markdown",
   "metadata": {},
   "source": [
    "### Loading weights of the pre-trained model\n",
    "\n",
    "\n",
    "The weights are saved as ```HDF5``` files. A specific set of weights will be downloaded when you first run the following cell."
   ]
  },
  {
   "cell_type": "code",
   "execution_count": null,
   "metadata": {},
   "outputs": [],
   "source": [
    "if not glob.glob(\"../network_params/*.h5\"):\n",
    "    print(\"Downloading network weights...\")\n",
    "    urllib.request.urlretrieve('https://ftp.mi.fu-berlin.de/pub/cmb-data/deep_sxt/weights_semisupervised_2021_05.h5',\n",
    "                       '../network_params/weights_semisupervised_2021_05.h5')"
   ]
  },
  {
   "cell_type": "code",
   "execution_count": null,
   "metadata": {},
   "outputs": [],
   "source": [
    "model.load_weights('../network_params/weights_semisupervised_2021_05.h5')"
   ]
  },
  {
   "cell_type": "markdown",
   "metadata": {},
   "source": [
    "## Preparing tomogram for processing\n",
    "\n",
    "Please provide the full path to your tomogram file in the following cell:"
   ]
  },
  {
   "cell_type": "code",
   "execution_count": null,
   "metadata": {},
   "outputs": [],
   "source": [
    "tomogram_file_path = \"path_to_your_tomogram_file\""
   ]
  },
  {
   "cell_type": "code",
   "execution_count": null,
   "metadata": {},
   "outputs": [],
   "source": [
    "tomogram = load_tomogram_from_file(tomogram_file_path)"
   ]
  },
  {
   "cell_type": "markdown",
   "metadata": {},
   "source": [
    "### Hint:\n",
    "you might want to slice the tomogram to remove uninteresting slices before processing by the network.\n",
    "\n",
    "Just change the ```start_index``` and ```end_index``` accordingly in the following."
   ]
  },
  {
   "cell_type": "code",
   "execution_count": null,
   "metadata": {},
   "outputs": [],
   "source": [
    "start_index = 0\n",
    "end_index = tomogram.shape[0]\n",
    "\n",
    "sel_slices = tomogram[start_index:end_index, :, :]\n",
    "\n",
    "n_slices = sel_slices.shape[0]\n",
    "slice_shape = sel_slices.shape[1:]\n",
    "\n",
    "print(f\"Number of slices: {n_slices}\")\n",
    "print(f\"Slice shape: {slice_shape}\")\n",
    "\n",
    "n_sample_slices = 5\n",
    "\n",
    "fig = plt.figure (figsize = (10 * n_sample_slices, 20))\n",
    "\n",
    "for i in range(n_sample_slices):\n",
    "    \n",
    "    _index = n_slices // n_sample_slices * (i + 1) - 1\n",
    "    \n",
    "    ax = fig.add_subplot(1, n_sample_slices, i + 1)\n",
    "    ax.set_axis_off()\n",
    "    ax.set_title(f\"slice #{_index}\", fontsize=24)\n",
    "    \n",
    "    _img = sel_slices[_index, :, :]\n",
    "    \n",
    "    ax.imshow (_img, cmap='Greys_r')"
   ]
  },
  {
   "cell_type": "markdown",
   "metadata": {},
   "source": [
    "## Feeding the tomogram to the segmentation network\n",
    "\n",
    "This process can take up to several minutes depending the performance of the graphics card on your machine.\n",
    "\n",
    "The ```segment_slice``` function chops up the image into smaller ```chunk_size```x```chunk_size``` size for processing without running out of memory. It optionally takes two arguments: ```chunk_size``` and ```stride```. If you encounter an OutOfMemory error during the following process, try reducing the ```chunk_size```.  "
   ]
  },
  {
   "cell_type": "code",
   "execution_count": null,
   "metadata": {},
   "outputs": [],
   "source": [
    "chunk_size = 600\n",
    "stride = 400\n",
    "\n",
    "segmented_tomogram = []\n",
    "\n",
    "for _slice in tqdm(sel_slices):\n",
    "    \n",
    "    output = segment_slice(model, image_preprocessing_function(_slice),\n",
    "                           chunk_size=np.amin([chunk_size, *_slice.shape]), stride=stride)\n",
    "    \n",
    "    segmented_slice = (output > 0.0).astype(np.float32)\n",
    "    \n",
    "    segmented_tomogram.append(segmented_slice.copy())\n",
    "    \n",
    "segmented_tomogram = np.array(segmented_tomogram)"
   ]
  },
  {
   "cell_type": "code",
   "execution_count": null,
   "metadata": {},
   "outputs": [],
   "source": [
    "fig = plt.figure (figsize = (10 * n_sample_slices, 20))\n",
    "\n",
    "for i in range(n_sample_slices):\n",
    "    \n",
    "    _index = n_slices // n_sample_slices * (i + 1) - 1\n",
    "    \n",
    "    ax = fig.add_subplot(2, n_sample_slices, i + 1)\n",
    "    ax.set_axis_off()\n",
    "    ax.set_title(f\"original slice #{_index}\", fontsize=24)\n",
    "    \n",
    "    ax.imshow (sel_slices[_index, :, :], cmap='Greys_r')\n",
    "    \n",
    "    ax = fig.add_subplot(2, n_sample_slices, i + n_sample_slices + 1)\n",
    "    ax.set_axis_off()\n",
    "    ax.set_title(f\"segmented slice #{_index}\", fontsize=24)\n",
    "    \n",
    "    ax.imshow (segmented_tomogram[_index, :, :], cmap='hot')"
   ]
  },
  {
   "cell_type": "markdown",
   "metadata": {},
   "source": [
    "## Saving the segmented tomogram to file\n",
    "\n",
    "for further processing/visualizaion"
   ]
  },
  {
   "cell_type": "code",
   "execution_count": null,
   "metadata": {},
   "outputs": [],
   "source": [
    "np.save (\"../outputs/segmented_tomogram\", segmented_tomogram)"
   ]
  },
  {
   "cell_type": "markdown",
   "metadata": {},
   "source": [
    "### Hint:\n",
    "\n",
    "For 3D reconstruction, the numpy file created by the previous cell suffices.\n",
    "\n",
    "You can additionally save the segmented output as a TIFF file to use with software such as **ImageJ**:"
   ]
  },
  {
   "cell_type": "code",
   "execution_count": null,
   "metadata": {},
   "outputs": [],
   "source": [
    "tifffile.imwrite(\"../outputs/segmented_tomogram.tiff\",\n",
    "                 data=(segmented_tomogram * 65535.0).astype(np.uint16), compression='zlib',\n",
    "                 imagej=True)"
   ]
  },
  {
   "cell_type": "code",
   "execution_count": null,
   "metadata": {},
   "outputs": [],
   "source": []
  }
 ],
 "metadata": {
  "kernelspec": {
   "display_name": "Python 3 (ipykernel)",
   "language": "python",
   "name": "python3"
  },
  "language_info": {
   "codemirror_mode": {
    "name": "ipython",
    "version": 3
   },
   "file_extension": ".py",
   "mimetype": "text/x-python",
   "name": "python",
   "nbconvert_exporter": "python",
   "pygments_lexer": "ipython3",
   "version": "3.9.13"
  }
 },
 "nbformat": 4,
 "nbformat_minor": 2
}
